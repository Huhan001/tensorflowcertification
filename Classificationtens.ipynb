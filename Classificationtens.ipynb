{
  "nbformat": 4,
  "nbformat_minor": 0,
  "metadata": {
    "colab": {
      "private_outputs": true,
      "provenance": [],
      "authorship_tag": "ABX9TyPybORIwH6scS1j3qJFJU2w",
      "include_colab_link": true
    },
    "kernelspec": {
      "name": "python3",
      "display_name": "Python 3"
    },
    "language_info": {
      "name": "python"
    },
    "accelerator": "GPU",
    "gpuClass": "standard"
  },
  "cells": [
    {
      "cell_type": "markdown",
      "metadata": {
        "id": "view-in-github",
        "colab_type": "text"
      },
      "source": [
        "<a href=\"https://colab.research.google.com/github/Huhan001/tensorflowcertification/blob/main/Classificationtens.ipynb\" target=\"_parent\"><img src=\"https://colab.research.google.com/assets/colab-badge.svg\" alt=\"Open In Colab\"/></a>"
      ]
    },
    {
      "cell_type": "code",
      "execution_count": null,
      "metadata": {
        "id": "dxAFEaJklhNV"
      },
      "outputs": [],
      "source": [
        "!pip install -U tensorflow_datasets\n",
        "!pip install -U tensorflow"
      ]
    },
    {
      "cell_type": "code",
      "source": [
        "import tensorflow\n",
        "import tensorflow_datasets\n",
        "\n",
        "tensorflow.__version__"
      ],
      "metadata": {
        "id": "w4kMZuJNogx3"
      },
      "execution_count": null,
      "outputs": []
    },
    {
      "cell_type": "code",
      "source": [
        "import numpy \n",
        "import pandas as pd\n",
        "import math \n",
        "import matplotlib.pyplot as plt"
      ],
      "metadata": {
        "id": "D6Rq9b0Wpc3V"
      },
      "execution_count": null,
      "outputs": []
    },
    {
      "cell_type": "markdown",
      "source": [
        "import data"
      ],
      "metadata": {
        "id": "54DAf-Yypgzp"
      }
    },
    {
      "cell_type": "code",
      "source": [
        "data_set, metadeta = tensorflow_datasets.load('fashion_mnist', as_supervised=True, with_info=True)\n",
        "\n",
        "#Splitting data\n",
        "train, test = data_set['train'], data_set['test']\n",
        "\n",
        "try:\n",
        "  labels = metadeta.features['label'].names\n",
        "  print(labels)\n",
        "except:\n",
        "  print(\"didn't work\")"
      ],
      "metadata": {
        "id": "k6fhAqREpiCO"
      },
      "execution_count": null,
      "outputs": []
    },
    {
      "cell_type": "code",
      "source": [
        "#now lets look into our data to know the columns and rows. \n",
        "metadeta.splits.total_num_examples\n",
        "\n",
        "#be more specific\n",
        "numberoftraining = metadeta.splits['train'].num_examples\n",
        "numberoftesting = metadeta.splits['test'].num_examples\n",
        "\n",
        "print('{} total of all testing & /n {} total of all train'.format(numberoftesting, numberoftraining))"
      ],
      "metadata": {
        "id": "IRi8GnqRrlCZ"
      },
      "execution_count": null,
      "outputs": []
    },
    {
      "cell_type": "code",
      "source": [
        "#lets perform normalization before we try visualizing our data\n",
        "def normalize(image, label):\n",
        "  image = tensorflow.cast(image, tensorflow.float32)\n",
        "  image /= 255\n",
        "  return image, label\n",
        "\n",
        "train = train.map(normalize)\n",
        "test = test.map(normalize)\n",
        "\n",
        "# to save time and have data ready\n",
        "\n",
        "train = train.cache()\n",
        "test = test.cache()"
      ],
      "metadata": {
        "id": "yJNIshhfsqhG"
      },
      "execution_count": null,
      "outputs": []
    },
    {
      "cell_type": "code",
      "source": [
        "#time to print the things within our data\n",
        "plt.figure(figsize=(10,10))\n",
        "for i, (image, label) in enumerate(train.take(30)):\n",
        "  image = image.numpy().reshape(28,28)\n",
        "  plt.subplot(5,5, 1+i)\n",
        "  plt.imshow(image)\n",
        "  plt.xlabel(labels[label])\n",
        "  plt.xticks([])\n",
        "  plt.yticks([])\n",
        "plt.show()\n",
        "\n",
        "#succesfull"
      ],
      "metadata": {
        "id": "G_IhtLlwuDIJ"
      },
      "execution_count": null,
      "outputs": []
    },
    {
      "cell_type": "code",
      "source": [
        "#build layers \n",
        "l00 = tensorflow.keras.layers.Flatten(input_shape = (28,28,1))\n",
        "l01 = tensorflow.keras.layers.Dense(units= 392, activation= tensorflow.nn.relu)\n",
        "l02 = tensorflow.keras.layers.Dense(units= 196, activation= tensorflow.nn.relu)\n",
        "l03 = tensorflow.keras.layers.Dense(units= 98, activation= tensorflow.nn.relu)\n",
        "l04 = tensorflow.keras.layers.Dense(units= 49, activation= tensorflow.nn.relu)\n",
        "l05 = tensorflow.keras.layers.Dense(units= 10, activation= tensorflow.nn.softmax)\n",
        "\n",
        "#make them\n",
        "model = tensorflow.keras.Sequential([l00, l01, l02, l03, l04, l05])\n",
        "\n",
        "#compile the model\n",
        "model.compile(loss=tensorflow.keras.losses.SparseCategoricalCrossentropy(), metrics=['accuracy'], optimizer='Adam')\n",
        "\n",
        "#fit the model\n",
        "batch = 29\n",
        "train_data = train.repeat().shuffle(numberoftraining).batch(batch)\n",
        "test_data = test.batch(batch)\n",
        "#doing so after some preparation \n",
        "model.fit(train_data,epochs= 5 , steps_per_epoch=math.ceil(numberoftraining/batch))\n",
        "\n"
      ],
      "metadata": {
        "id": "uBY-04wcvlq7"
      },
      "execution_count": null,
      "outputs": []
    },
    {
      "cell_type": "code",
      "source": [
        "#testing time \n",
        "train_loss, train_accuracy = model.evaluate(train_data, steps=math.ceil(numberoftraining/batch))\n",
        "print(\"accuracy comes to {}\".format(train_accuracy))"
      ],
      "metadata": {
        "id": "ELoEwU7A0kJa"
      },
      "execution_count": null,
      "outputs": []
    },
    {
      "cell_type": "code",
      "source": [
        "test_loss, test_accuracy = model.evaluate(test_data, steps=math.ceil(numberoftesting/batch))\n",
        "print(\"accuracy comes to {}\".format(test_accuracy))"
      ],
      "metadata": {
        "id": "lrPuGYuT1wwn"
      },
      "execution_count": null,
      "outputs": []
    }
  ]
}