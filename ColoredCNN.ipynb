{
  "nbformat": 4,
  "nbformat_minor": 0,
  "metadata": {
    "colab": {
      "provenance": [],
      "authorship_tag": "ABX9TyMXx8gcCWPOQudxGwU44cgV",
      "include_colab_link": true
    },
    "kernelspec": {
      "name": "python3",
      "display_name": "Python 3"
    },
    "language_info": {
      "name": "python"
    },
    "accelerator": "GPU",
    "gpuClass": "standard"
  },
  "cells": [
    {
      "cell_type": "markdown",
      "metadata": {
        "id": "view-in-github",
        "colab_type": "text"
      },
      "source": [
        "<a href=\"https://colab.research.google.com/github/Huhan001/tensorflowcertification/blob/main/ColoredCNN.ipynb\" target=\"_parent\"><img src=\"https://colab.research.google.com/assets/colab-badge.svg\" alt=\"Open In Colab\"/></a>"
      ]
    },
    {
      "cell_type": "code",
      "execution_count": 1,
      "metadata": {
        "id": "Qne_0IWxdQ4H"
      },
      "outputs": [],
      "source": [
        "import os #for file location showing\n",
        "import matplotlib.pyplot as plt\n",
        "import numpy \n",
        "import pandas"
      ]
    },
    {
      "cell_type": "code",
      "source": [
        "import tensorflow\n",
        "from tensorflow.keras.preprocessing.image import ImageDataGenerator"
      ],
      "metadata": {
        "id": "xU3EUmXKdyQ_"
      },
      "execution_count": 2,
      "outputs": []
    },
    {
      "cell_type": "code",
      "source": [
        "#data loading\n",
        "URL = 'https://storage.googleapis.com/mledu-datasets/cats_and_dogs_filtered.zip'\n",
        "zipdir = tensorflow.keras.utils.get_file('cats_and_dogs_filtered.zip', origin = URL, extract = True)"
      ],
      "metadata": {
        "colab": {
          "base_uri": "https://localhost:8080/"
        },
        "id": "Tjf-8rhPeOFo",
        "outputId": "0386f4ec-5935-41e7-f475-1129cb6a1fc9"
      },
      "execution_count": 3,
      "outputs": [
        {
          "output_type": "stream",
          "name": "stdout",
          "text": [
            "Downloading data from https://storage.googleapis.com/mledu-datasets/cats_and_dogs_filtered.zip\n",
            "68606236/68606236 [==============================] - 2s 0us/step\n"
          ]
        }
      ]
    },
    {
      "cell_type": "code",
      "source": [
        "dirpath = os.path.dirname(zipdir)\n",
        "!find $dirpath -type d -print"
      ],
      "metadata": {
        "colab": {
          "base_uri": "https://localhost:8080/"
        },
        "id": "szrEy9HGfKtM",
        "outputId": "2c0dce91-0cd2-4cd6-a42e-e72591c10c46"
      },
      "execution_count": 10,
      "outputs": [
        {
          "output_type": "stream",
          "name": "stdout",
          "text": [
            "/root/.keras/datasets\n",
            "/root/.keras/datasets/cats_and_dogs_filtered\n",
            "/root/.keras/datasets/cats_and_dogs_filtered/train\n",
            "/root/.keras/datasets/cats_and_dogs_filtered/train/dogs\n",
            "/root/.keras/datasets/cats_and_dogs_filtered/train/cats\n",
            "/root/.keras/datasets/cats_and_dogs_filtered/validation\n",
            "/root/.keras/datasets/cats_and_dogs_filtered/validation/dogs\n",
            "/root/.keras/datasets/cats_and_dogs_filtered/validation/cats\n"
          ]
        },
        {
          "output_type": "execute_result",
          "data": {
            "text/plain": [
              "['cats_and_dogs_filtered.zip', 'cats_and_dogs_filtered']"
            ]
          },
          "metadata": {},
          "execution_count": 10
        }
      ]
    },
    {
      "cell_type": "code",
      "source": [
        "base_dir = os.path.join(os.path.dirname(zipdir), 'cats_and_dogs_filtered')\n",
        "train_dir = os.path.join(base_dir, 'train')\n",
        "validation_dir = os.path.join(base_dir, 'validation')\n",
        "\n",
        "traindircats = os.path.join(train_dir,'cats')\n",
        "traindirdogs = os.path.join(train_dir, 'dogs')\n",
        "\n",
        "validation_dir_dogs = os.path.join(validation_dir, 'dogs')\n",
        "validation_dir_cats = os.path.join(validation_dir, 'cats')\n"
      ],
      "metadata": {
        "id": "NoFm9__uf6wK"
      },
      "execution_count": 9,
      "outputs": []
    },
    {
      "cell_type": "code",
      "source": [
        "num_cats_tr = len(os.listdir(traindircats))\n",
        "num_dogs_tr = len(os.listdir(traindirdogs))\n",
        "\n",
        "num_cats_val = len(os.listdir(validation_dir_cats))\n",
        "num_dogs_val = len(os.listdir(validation_dir_dogs))\n",
        "\n",
        "total_train = num_cats_tr + num_dogs_tr\n",
        "total_val = num_cats_val + num_dogs_val"
      ],
      "metadata": {
        "id": "2DWUkfFph3Dh"
      },
      "execution_count": 11,
      "outputs": []
    },
    {
      "cell_type": "code",
      "source": [
        "print('total training cat images:', num_cats_tr)\n",
        "print('total training dog images:', num_dogs_tr)\n",
        "\n",
        "print('total validation cat images:', num_cats_val)\n",
        "print('total validation dog images:', num_dogs_val)\n",
        "print(\"--\")\n",
        "print(\"Total training images:\", total_train)\n",
        "print(\"Total validation images:\", total_val)"
      ],
      "metadata": {
        "colab": {
          "base_uri": "https://localhost:8080/"
        },
        "id": "NANs8dNSihnK",
        "outputId": "11c17dfd-1bc4-4921-9e0e-ae055315afe9"
      },
      "execution_count": 12,
      "outputs": [
        {
          "output_type": "stream",
          "name": "stdout",
          "text": [
            "total training cat images: 1000\n",
            "total training dog images: 1000\n",
            "total validation cat images: 500\n",
            "total validation dog images: 500\n",
            "--\n",
            "Total training images: 2000\n",
            "Total validation images: 1000\n"
          ]
        }
      ]
    },
    {
      "cell_type": "code",
      "source": [
        "#after inputing data and preparing data now lets set our batch size\n",
        "batch = 100\n",
        "image_shape = 150"
      ],
      "metadata": {
        "id": "L2BOt-s1inDR"
      },
      "execution_count": 13,
      "outputs": []
    },
    {
      "cell_type": "code",
      "source": [
        "#changing image into tensorflow images floating \n",
        "train_image_generator = ImageDataGenerator(rescale=1./255)\n",
        "validation_image_generator = ImageDataGenerator(rescale=1./255)"
      ],
      "metadata": {
        "id": "-YaGRej1kVFh"
      },
      "execution_count": 14,
      "outputs": []
    },
    {
      "cell_type": "code",
      "source": [
        "train_data_gen = train_image_generator.flow_from_directory(batch_size=batch,\n",
        "                                                           directory = train_dir,\n",
        "                                                           shuffle = True,\n",
        "                                                           target_size = (image_shape, image_shape),\n",
        "                                                           class_mode = 'binary')\n",
        "\n",
        "val_data_gen = validation_image_generator.flow_from_directory(batch_size=batch,\n",
        "                                                              directory=validation_dir,\n",
        "                                                              shuffle=False,\n",
        "                                                              target_size=(image_shape,image_shape), #(150,150)\n",
        "                                                              class_mode='binary')"
      ],
      "metadata": {
        "colab": {
          "base_uri": "https://localhost:8080/"
        },
        "id": "ngbYK0pHkt2S",
        "outputId": "3b4808e8-ad6d-4e24-c6f7-7649db46c58d"
      },
      "execution_count": 17,
      "outputs": [
        {
          "output_type": "stream",
          "name": "stdout",
          "text": [
            "Found 2000 images belonging to 2 classes.\n",
            "Found 1000 images belonging to 2 classes.\n"
          ]
        }
      ]
    },
    {
      "cell_type": "code",
      "source": [
        "sample_training_images, _ = next(train_data_gen)\n",
        "\n",
        "# This function will plot images in the form of a grid with 1 row and 5 columns where images are placed in each column.\n",
        "def plotImages(images_arr):\n",
        "    fig, axes = plt.subplots(1, 5, figsize=(20,20))\n",
        "    axes = axes.flatten()\n",
        "    for img, ax in zip(images_arr, axes):\n",
        "        ax.imshow(img)\n",
        "    plt.tight_layout()\n",
        "    plt.show()\n",
        "\n",
        "plotImages(sample_training_images[:5])  # Plot images 0-4"
      ],
      "metadata": {
        "id": "qCNOZEQrlo0U"
      },
      "execution_count": null,
      "outputs": []
    },
    {
      "cell_type": "code",
      "source": [
        "from pickle import LONG4\n",
        "#build layers\n",
        "l1 = tensorflow.keras.layers.Conv2D(32, (3,3), activation = 'relu', input_shape = (150,150,3))\n",
        "l10 = tensorflow.keras.layers.MaxPool2D(2,2)\n",
        "l2 = tensorflow.keras.layers.Conv2D(64, (3,3), activation = 'relu')\n",
        "l20 = tensorflow.keras.layers.MaxPool2D(2,2)\n",
        "l3 = tensorflow.keras.layers.Conv2D(128, (3,3), activation = 'relu')\n",
        "l30 = tensorflow.keras.layers.MaxPool2D(2,2)\n",
        "l4 = tensorflow.keras.layers.Conv2D(128, (3,3), activation = 'relu')\n",
        "l40 = tensorflow.keras.layers.MaxPool2D(2,2)\n",
        "\n",
        "#build model\n",
        "model = tensorflow.keras.Sequential([l1,l10,l2,l20,l3,l30,l4,l40,\n",
        "                                    tensorflow.keras.layers.Flatten(),\n",
        "                                    tensorflow.keras.layers.Dense(512, activation = 'relu'),\n",
        "                                    tensorflow.keras.layers.Dense(2, activation = 'softmax')])"
      ],
      "metadata": {
        "id": "ytzSY91ymUTe"
      },
      "execution_count": 25,
      "outputs": []
    },
    {
      "cell_type": "code",
      "source": [
        "#compile\n",
        "model.compile(optimizer = 'adam',\n",
        "              loss = tensorflow.keras.losses.SparseCategoricalCrossentropy(from_logits=True),\n",
        "              metrics = ['accuracy'])"
      ],
      "metadata": {
        "id": "7dZXFwdKoX_d"
      },
      "execution_count": 26,
      "outputs": []
    },
    {
      "cell_type": "code",
      "source": [
        "#train\n",
        "EPOCHS = 100\n",
        "history = model.fit_generator(\n",
        "    train_data_gen,\n",
        "    steps_per_epoch=int(numpy.ceil(total_train / float(batch))),\n",
        "    epochs=EPOCHS,\n",
        "    validation_data=val_data_gen,\n",
        "    validation_steps=int(numpy.ceil(total_val / float(batch)))\n",
        ")"
      ],
      "metadata": {
        "id": "e7utihiVo-Nh"
      },
      "execution_count": null,
      "outputs": []
    },
    {
      "cell_type": "code",
      "source": [
        "acc = history.history['accuracy']\n",
        "val_acc = history.history['val_accuracy']\n",
        "\n",
        "loss = history.history['loss']\n",
        "val_loss = history.history['val_loss']\n",
        "\n",
        "epochs_range = range(EPOCHS)\n",
        "\n",
        "plt.figure(figsize=(8, 8))\n",
        "plt.subplot(1, 2, 1)\n",
        "plt.plot(epochs_range, acc, label='Training Accuracy')\n",
        "plt.plot(epochs_range, val_acc, label='Validation Accuracy')\n",
        "plt.legend(loc='lower right')\n",
        "plt.title('Training and Validation Accuracy')\n",
        "\n",
        "plt.subplot(1, 2, 2)\n",
        "plt.plot(epochs_range, loss, label='Training Loss')\n",
        "plt.plot(epochs_range, val_loss, label='Validation Loss')\n",
        "plt.legend(loc='upper right')\n",
        "plt.title('Training and Validation Loss')\n",
        "plt.savefig('./foo.png')\n",
        "plt.show()"
      ],
      "metadata": {
        "colab": {
          "base_uri": "https://localhost:8080/",
          "height": 499
        },
        "id": "3QpyS__XpqeO",
        "outputId": "8fa59871-1d05-4a33-d47e-b79cec271b76"
      },
      "execution_count": 28,
      "outputs": [
        {
          "output_type": "display_data",
          "data": {
            "text/plain": [
              "<Figure size 576x576 with 2 Axes>"
            ],
            "image/png": "[encoded data removed]"
          },
          "metadata": {
            "needs_background": "light"
          }
        }
      ]
    }
  ]
}